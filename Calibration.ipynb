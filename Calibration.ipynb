{
 "cells": [
  {
   "cell_type": "code",
   "execution_count": 1,
   "metadata": {},
   "outputs": [],
   "source": [
    "import os\n",
    "import pandas as pd\n",
    "import numpy as np\n",
    "from skimage import color\n",
    "from skimage import io\n",
    "import matplotlib.pyplot as plt\n",
    "import json\n",
    "from collections import namedtuple\n",
    "import periodictable\n",
    "\n",
    "#from string import maketrans\n",
    "from pprint import pprint"
   ]
  },
  {
   "cell_type": "code",
   "execution_count": 2,
   "metadata": {},
   "outputs": [],
   "source": [
    "data_dir = \"./datas/meteorite_mineral_mapper/dataset_1_opaques/\""
   ]
  },
  {
   "cell_type": "code",
   "execution_count": 3,
   "metadata": {},
   "outputs": [],
   "source": [
    "standard_dirs = list(filter(lambda d: d[:14] == \"standards_32bt\", [d for d in os.listdir('./datas/meteorite_mineral_mapper/dataset_1_opaques/')]))\n",
    "mask_dirs = list(filter(lambda d: d[:4] != \"obj1\" and d[:4] != \"obj2\" and d[-8:]==\"mask.tif\",[d for d in os.listdir('./datas/meteorite_mineral_mapper/dataset_1_opaques/')]))\n",
    "obj1_dirs = list(filter(lambda d: d[:9] == \"obj1_32bt\", [d for d in os.listdir('./datas/meteorite_mineral_mapper/dataset_1_opaques/')]))\n",
    "obj2_dirs = list(filter(lambda d: d[:9] == \"obj2_32bt\", [d for d in os.listdir('./datas/meteorite_mineral_mapper/dataset_1_opaques/')]))"
   ]
  },
  {
   "cell_type": "code",
   "execution_count": 4,
   "metadata": {},
   "outputs": [],
   "source": [
    "standards = {}\n",
    "for s in standard_dirs:\n",
    "    tmp = s.split(\".\")[0].split(\"_\")[-1]\n",
    "    if (tmp == )\n",
    "    standards[tmp] = io.imread(data_dir+s)\n",
    "masks = {}\n",
    "for m in mask_dirs:\n",
    "    if ('rutile' in m):\n",
    "        masks[\"TiO2\"] = io.imread(data_dir+m)\n",
    "    else:\n",
    "        masks[m.split(\"std\")[0].split(\"_\")[0].split(\"-\")[0]] = io.imread(data_dir+m)\n",
    "obj1 = {}\n",
    "for o in obj1_dirs:\n",
    "    tmp = o.split(\".\")[0].split(\"_\")[-1]\n",
    "    obj1[tmp] = io.imread(data_dir+o)\n",
    "\n",
    "obj2 = {}\n",
    "for o in obj2_dirs:\n",
    "    tmp = o.split(\".\")[0].split(\"_\")[-1]\n",
    "    obj2[tmp] = io.imread(data_dir+o)"
   ]
  },
  {
   "cell_type": "code",
   "execution_count": 5,
   "metadata": {},
   "outputs": [],
   "source": [
    "def show(array, index):\n",
    "    plt.imshow(array[index], cmap=\"gray\")"
   ]
  },
  {
   "cell_type": "code",
   "execution_count": 57,
   "metadata": {},
   "outputs": [
    {
     "data": {
      "text/plain": [
       "dict_keys(['NiS', 'Ni', 'SCOlv', 'FeS', 'Fe', 'CaTiO3', 'Fe3O4', 'TiO2'])"
      ]
     },
     "execution_count": 57,
     "metadata": {},
     "output_type": "execute_result"
    }
   ],
   "source": [
    "masks.keys()"
   ]
  },
  {
   "cell_type": "code",
   "execution_count": 58,
   "metadata": {},
   "outputs": [
    {
     "data": {
      "text/plain": [
       "{'NiS': {'Cr': 0,\n",
       "  'Ni': 0.6466993688738453,\n",
       "  'Si': 0,\n",
       "  'Ca': 0,\n",
       "  'S': 0.35330063112615473,\n",
       "  'Al': 0,\n",
       "  'P': 0,\n",
       "  'Fe': 0,\n",
       "  'Mg': 0,\n",
       "  'Ti': 0},\n",
       " 'Ni': {'Cr': 0,\n",
       "  'Ni': 1.0,\n",
       "  'Si': 0,\n",
       "  'Ca': 0,\n",
       "  'S': 0,\n",
       "  'Al': 0,\n",
       "  'P': 0,\n",
       "  'Fe': 0,\n",
       "  'Mg': 0,\n",
       "  'Ti': 0},\n",
       " 'SCOlv': {'Ti': 0,\n",
       "  'Si': 0.19079999999999997,\n",
       "  'Al': 0.0,\n",
       "  'Fe': 0.0742,\n",
       "  'Mg': 0.298,\n",
       "  'Ca': 0.0002,\n",
       "  'P': 0.0,\n",
       "  'Cr': 0.0,\n",
       "  'Ni': 0.0029,\n",
       "  'S': 0.0},\n",
       " 'FeS': {'Cr': 0,\n",
       "  'Ni': 0,\n",
       "  'Si': 0,\n",
       "  'Ca': 0,\n",
       "  'S': 0.3647480377658969,\n",
       "  'Al': 0,\n",
       "  'P': 0,\n",
       "  'Fe': 0.6352519622341031,\n",
       "  'Mg': 0,\n",
       "  'Ti': 0},\n",
       " 'Fe': {'Cr': 0,\n",
       "  'Ni': 0,\n",
       "  'Si': 0,\n",
       "  'Ca': 0,\n",
       "  'S': 0,\n",
       "  'Al': 0,\n",
       "  'P': 0,\n",
       "  'Fe': 1.0,\n",
       "  'Mg': 0,\n",
       "  'Ti': 0},\n",
       " 'CaTiO3': {'Cr': 0,\n",
       "  'Ni': 0,\n",
       "  'Si': 0,\n",
       "  'Ca': 0.29481430479788623,\n",
       "  'S': 0,\n",
       "  'Al': 0,\n",
       "  'P': 0,\n",
       "  'Fe': 0,\n",
       "  'Mg': 0,\n",
       "  'Ti': 0.3521102931224217},\n",
       " 'Fe3O4': {'Cr': 0,\n",
       "  'Ni': 0,\n",
       "  'Si': 0,\n",
       "  'Ca': 0,\n",
       "  'S': 0,\n",
       "  'Al': 0,\n",
       "  'P': 0,\n",
       "  'Fe': 0.723591407862219,\n",
       "  'Mg': 0,\n",
       "  'Ti': 0},\n",
       " 'TiO2': {'Cr': 0,\n",
       "  'Ni': 0,\n",
       "  'Si': 0,\n",
       "  'Ca': 0,\n",
       "  'S': 0,\n",
       "  'Al': 0,\n",
       "  'P': 0,\n",
       "  'Fe': 0,\n",
       "  'Mg': 0,\n",
       "  'Ti': 0.5993428977109101}}"
      ]
     },
     "execution_count": 58,
     "metadata": {},
     "output_type": "execute_result"
    }
   ],
   "source": [
    "f = open('./parsed_weight')\n",
    "parsed_weight = json.load(f)\n",
    "weights = {}\n",
    "for mask in masks.keys():\n",
    "    weights[mask] = {}\n",
    "    if mask == \"SCOlv\":\n",
    "        for s in parsed_weight[\"10\"].keys():\n",
    "            if s in standards.keys():\n",
    "                weights[mask][s] = parsed_weight[\"10\"][s]/100\n",
    "            else:\n",
    "                weights[mask][standard] = 0\n",
    "    else:\n",
    "        for standard in standards.keys():\n",
    "            d = dict((str(e), w) for e,w in periodictable.formula(mask).mass_fraction.items())\n",
    "            if standard in mask:\n",
    "                weights[mask][standard] = d[standard]\n",
    "            else:\n",
    "                weights[mask][standard] = 0\n",
    "weights"
   ]
  },
  {
   "cell_type": "code",
   "execution_count": 7,
   "metadata": {},
   "outputs": [
    {
     "data": {
      "text/plain": [
       "dict_keys(['Cr', 'Ni', 'Si', 'Ca', 'S', 'Al', 'P', 'Fe', 'Mg', 'Ti'])"
      ]
     },
     "execution_count": 7,
     "metadata": {},
     "output_type": "execute_result"
    }
   ],
   "source": []
  },
  {
   "cell_type": "code",
   "execution_count": 74,
   "metadata": {},
   "outputs": [],
   "source": [
    "def mask(mask, standard):\n",
    "    t = np.zeros_like(standard)\n",
    "    for i in range(256):\n",
    "        for j in range(512):\n",
    "            if (mask[i][j]):\n",
    "                t[i][j] = standard[i][j]\n",
    "    return t\n",
    "\n",
    "mask_maps = {}\n",
    "for k in masks.keys():\n",
    "    mask_maps[k] = {}\n",
    "    for s in standards.keys():\n",
    "        mask_maps[k][s] = mask(masks[k], standards[s])"
   ]
  },
  {
   "cell_type": "code",
   "execution_count": null,
   "metadata": {},
   "outputs": [],
   "source": []
  },
  {
   "cell_type": "code",
   "execution_count": 12,
   "metadata": {},
   "outputs": [
    {
     "data": {
      "text/plain": [
       "[<matplotlib.lines.Line2D at 0x7ffb750eaef0>]"
      ]
     },
     "execution_count": 12,
     "metadata": {},
     "output_type": "execute_result"
    },
    {
     "data": {
      "image/png": "[encoded data removed]",
      "text/plain": [
       "<Figure size 432x288 with 1 Axes>"
      ]
     },
     "metadata": {
      "needs_background": "light"
     },
     "output_type": "display_data"
    }
   ],
   "source": [
    "y = np.bincount(mask_maps['NiS']['Ni'].flatten())\n",
    "ii = np.nonzero(y)[0]\n",
    "xx = []\n",
    "yy = []\n",
    "for i, j in zip(ii, y[ii]):\n",
    "    xx.append(i)\n",
    "    yy.append(j)\n",
    "xx = [0] + xx[1:]\n",
    "yy = [0] + yy[1:]\n",
    "xx = np.array(xx)\n",
    "yy = np.array(yy)\n",
    "plt.plot(xx, yy)"
   ]
  },
  {
   "cell_type": "code",
   "execution_count": 13,
   "metadata": {},
   "outputs": [
    {
     "data": {
      "text/plain": [
       "[<matplotlib.lines.Line2D at 0x7ffb7506bb70>]"
      ]
     },
     "execution_count": 13,
     "metadata": {},
     "output_type": "execute_result"
    },
    {
     "data": {
      "image/png": "[encoded data removed]",
      "text/plain": [
       "<Figure size 432x288 with 1 Axes>"
      ]
     },
     "metadata": {
      "needs_background": "light"
     },
     "output_type": "display_data"
    }
   ],
   "source": [
    "y = np.bincount(mask_maps['Ni']['Ni'].flatten())\n",
    "ii = np.nonzero(y)[0]\n",
    "xx = []\n",
    "yy = []\n",
    "for i, j in zip(ii, y[ii]):\n",
    "    xx.append(i)\n",
    "    yy.append(j)\n",
    "xx = xx[1:]\n",
    "yy = yy[1:]\n",
    "xx = np.array(xx)\n",
    "yy = np.array(yy)\n",
    "plt.plot(xx, yy)"
   ]
  },
  {
   "cell_type": "code",
   "execution_count": 14,
   "metadata": {},
   "outputs": [],
   "source": [
    "def average_std(mask, standard):\n",
    "    t = 0\n",
    "    d = mask_maps[mask][standard].flatten()\n",
    "    ret_avg = d[d != 0].mean()\n",
    "    red_std = d[d != 0].std()\n",
    "    return ret_avg, red_std"
   ]
  },
  {
   "cell_type": "code",
   "execution_count": null,
   "metadata": {},
   "outputs": [],
   "source": [
    "#Minyoung's garbage - can be deleted any time'\n",
    "Compound_choice = input(\"What is the compound? \")\n",
    "type(Compound_choice)\n",
    "Element_choice = input(\"What is the element? \")\n",
    "type(Element_choice)\n",
    "with open('./parsed_weight') as f:\n",
    "    data = json.load(f)\n",
    "    \n",
    "for kek in range(23): \n",
    "    if data[str(kek)]['Minerals']==Compound_choice:\n",
    "        weight_percentage =  data[str(kek)][Element_choice]\n",
    "        print (Element_choice + \" weight perecentage:\" + str(data[str(kek)][Element_choice]) + \"%\")\n",
    "    \n",
    "avg_ni,_=average_std('NiS', Element_choice )\n",
    "\n",
    "fig = plt.figure()\n",
    "ax = plt.axes()\n",
    "\n",
    "x = np.linspace(0, 255, 255)\n",
    "ax.plot(x, x*( weight_percentage/avg_ni)) ;"
   ]
  },
  {
   "cell_type": "code",
   "execution_count": 22,
   "metadata": {},
   "outputs": [
    {
     "data": {
      "text/plain": [
       "{'NiS': {'Ni': array([[0, 0, 0, ..., 0, 0, 0],\n",
       "         [0, 0, 0, ..., 0, 0, 0],\n",
       "         [0, 0, 0, ..., 0, 0, 0],\n",
       "         ...,\n",
       "         [0, 0, 0, ..., 0, 0, 0],\n",
       "         [0, 0, 0, ..., 0, 0, 0],\n",
       "         [0, 0, 0, ..., 0, 0, 0]], dtype=uint32),\n",
       "  'S': array([[0, 0, 0, ..., 0, 0, 0],\n",
       "         [0, 0, 0, ..., 0, 0, 0],\n",
       "         [0, 0, 0, ..., 0, 0, 0],\n",
       "         ...,\n",
       "         [0, 0, 0, ..., 0, 0, 0],\n",
       "         [0, 0, 0, ..., 0, 0, 0],\n",
       "         [0, 0, 0, ..., 0, 0, 0]], dtype=uint32)},\n",
       " 'Ni': {'Ni': array([[0, 0, 0, ..., 0, 0, 0],\n",
       "         [0, 0, 0, ..., 0, 0, 0],\n",
       "         [0, 0, 0, ..., 0, 0, 0],\n",
       "         ...,\n",
       "         [0, 0, 0, ..., 0, 0, 0],\n",
       "         [0, 0, 0, ..., 0, 0, 0],\n",
       "         [0, 0, 0, ..., 0, 0, 0]], dtype=uint32)},\n",
       " 'SCOlv': {'S': array([[0, 0, 0, ..., 0, 0, 0],\n",
       "         [0, 0, 0, ..., 0, 0, 0],\n",
       "         [0, 0, 0, ..., 0, 0, 0],\n",
       "         ...,\n",
       "         [0, 0, 0, ..., 0, 0, 0],\n",
       "         [0, 0, 0, ..., 0, 0, 0],\n",
       "         [0, 0, 0, ..., 0, 0, 0]], dtype=uint32)},\n",
       " 'FeS': {'S': array([[0, 0, 0, ..., 0, 0, 0],\n",
       "         [0, 0, 0, ..., 0, 0, 0],\n",
       "         [0, 0, 0, ..., 0, 0, 0],\n",
       "         ...,\n",
       "         [0, 0, 0, ..., 0, 0, 0],\n",
       "         [0, 0, 0, ..., 0, 0, 0],\n",
       "         [0, 0, 0, ..., 0, 0, 0]], dtype=uint32),\n",
       "  'Fe': array([[0, 0, 0, ..., 0, 0, 0],\n",
       "         [0, 0, 0, ..., 0, 0, 0],\n",
       "         [0, 0, 0, ..., 0, 0, 0],\n",
       "         ...,\n",
       "         [0, 0, 0, ..., 0, 0, 0],\n",
       "         [0, 0, 0, ..., 0, 0, 0],\n",
       "         [0, 0, 0, ..., 0, 0, 0]], dtype=uint32)},\n",
       " 'Fe': {'Fe': array([[0, 0, 0, ..., 0, 0, 0],\n",
       "         [0, 0, 0, ..., 0, 0, 0],\n",
       "         [0, 0, 0, ..., 0, 0, 0],\n",
       "         ...,\n",
       "         [0, 0, 0, ..., 0, 0, 0],\n",
       "         [0, 0, 0, ..., 0, 0, 0],\n",
       "         [0, 0, 0, ..., 0, 0, 0]], dtype=uint32)},\n",
       " 'CaTiO3': {'Ca': array([[0, 0, 0, ..., 0, 0, 0],\n",
       "         [0, 0, 0, ..., 0, 0, 0],\n",
       "         [0, 0, 0, ..., 0, 0, 0],\n",
       "         ...,\n",
       "         [0, 0, 0, ..., 0, 0, 0],\n",
       "         [0, 0, 0, ..., 0, 0, 0],\n",
       "         [0, 0, 0, ..., 0, 0, 0]], dtype=uint32),\n",
       "  'Ti': array([[0, 0, 0, ..., 0, 0, 0],\n",
       "         [0, 0, 0, ..., 0, 0, 0],\n",
       "         [0, 0, 0, ..., 0, 0, 0],\n",
       "         ...,\n",
       "         [0, 0, 0, ..., 0, 0, 0],\n",
       "         [0, 0, 0, ..., 0, 0, 0],\n",
       "         [0, 0, 0, ..., 0, 0, 0]], dtype=uint32)},\n",
       " 'Fe3O4': {'Fe': array([[0, 0, 0, ..., 0, 0, 0],\n",
       "         [0, 0, 0, ..., 0, 0, 0],\n",
       "         [0, 0, 0, ..., 0, 0, 0],\n",
       "         ...,\n",
       "         [0, 0, 0, ..., 0, 0, 0],\n",
       "         [0, 0, 0, ..., 0, 0, 0],\n",
       "         [0, 0, 0, ..., 0, 0, 0]], dtype=uint32)},\n",
       " 'TiO2': {'Ti': array([[0, 0, 0, ..., 0, 0, 0],\n",
       "         [0, 0, 0, ..., 0, 0, 0],\n",
       "         [0, 0, 0, ..., 0, 0, 0],\n",
       "         ...,\n",
       "         [0, 0, 0, ..., 0, 0, 0],\n",
       "         [0, 0, 0, ..., 0, 0, 0],\n",
       "         [0, 0, 0, ..., 0, 0, 0]], dtype=uint32)}}"
      ]
     },
     "execution_count": 22,
     "metadata": {},
     "output_type": "execute_result"
    }
   ],
   "source": [
    "mask_maps"
   ]
  },
  {
   "cell_type": "code",
   "execution_count": 49,
   "metadata": {},
   "outputs": [
    {
     "name": "stdout",
     "output_type": "stream",
     "text": [
      "from model: 182.67876501225447\n",
      "average: (192.22652885443583, 13.914124554256196)\n"
     ]
    },
    {
     "data": {
      "image/png": "[encoded data removed]",
      "text/plain": [
       "<Figure size 432x288 with 1 Axes>"
      ]
     },
     "metadata": {
      "needs_background": "light"
     },
     "output_type": "display_data"
    }
   ],
   "source": [
    "x = np.linspace(0, 1, 10000)\n",
    "plt.plot(x, lin_models[\"Ni\"](x))\n",
    "print(\"from model: {}\".format(lin_models[\"Ni\"](0.618)))\n",
    "print(\"average: {}\".format(average_std(\"NiS\",\"Ni\")))"
   ]
  },
  {
   "cell_type": "code",
   "execution_count": 77,
   "metadata": {},
   "outputs": [
    {
     "data": {
      "text/plain": [
       "dict_keys(['Cr', 'Ni', 'Si', 'Ca', 'S', 'Al', 'P', 'Fe', 'Mg', 'Ti'])"
      ]
     },
     "execution_count": 77,
     "metadata": {},
     "output_type": "execute_result"
    }
   ],
   "source": [
    "weights[\"NiS\"].keys()"
   ]
  },
  {
   "cell_type": "code",
   "execution_count": 90,
   "metadata": {},
   "outputs": [],
   "source": [
    "lin_models = {}\n",
    "i = 0.00000001\n",
    "for s in standards.keys():\n",
    "    x = []\n",
    "    y = []\n",
    "    for m in masks.keys():\n",
    "        dd = mask_maps[m][s].flatten()\n",
    "        dd = dd[dd != 0]\n",
    "        for d in dd: \n",
    "            if s in weights[m].keys():\n",
    "                if (weights[m][s] != 0):\n",
    "                    x.append(weights[m][s])\n",
    "                else:\n",
    "                    x.append(i)\n",
    "                    i = i + 0.01\n",
    "                    if (i > 0.03):\n",
    "                        i = 0.01\n",
    "            y.append(d)\n",
    "    if (len(x)):\n",
    "        lin_models[s] = np.poly1d(np.polyfit(y, x, 1))"
   ]
  },
  {
   "cell_type": "code",
   "execution_count": 92,
   "metadata": {},
   "outputs": [
    {
     "name": "stdout",
     "output_type": "stream",
     "text": [
      "from model: 0.9828809882011769\n",
      "average: (192.22652885443583, 13.914124554256196)\n"
     ]
    },
    {
     "data": {
      "image/png": "[encoded data removed]",
      "text/plain": [
       "<Figure size 432x288 with 1 Axes>"
      ]
     },
     "metadata": {
      "needs_background": "light"
     },
     "output_type": "display_data"
    }
   ],
   "source": [
    "x = np.linspace(0, 1000, 10000)\n",
    "plt.plot(x, lin_models[\"Ni\"](x))\n",
    "print(\"from model: {}\".format(lin_models[\"Ni\"](300)))\n",
    "print(\"average: {}\".format(average_std(\"NiS\",\"Ni\")))"
   ]
  },
  {
   "cell_type": "code",
   "execution_count": 52,
   "metadata": {},
   "outputs": [
    {
     "data": {
      "text/plain": [
       "dict_keys(['Cr', 'Ni', 'Si', 'Ca', 'S', 'Al', 'P', 'Fe', 'Mg', 'Ti'])"
      ]
     },
     "execution_count": 52,
     "metadata": {},
     "output_type": "execute_result"
    }
   ],
   "source": [
    "standards.keys()"
   ]
  },
  {
   "cell_type": "code",
   "execution_count": 53,
   "metadata": {},
   "outputs": [
    {
     "data": {
      "text/plain": [
       "dict_keys(['NiS', 'Ni', 'SCOlv', 'FeS', 'Fe', 'CaTiO3', 'Fe3O4', 'TiO2'])"
      ]
     },
     "execution_count": 53,
     "metadata": {},
     "output_type": "execute_result"
    }
   ],
   "source": [
    "masks.keys()"
   ]
  },
  {
   "cell_type": "code",
   "execution_count": 89,
   "metadata": {},
   "outputs": [
    {
     "data": {
      "text/plain": [
       "{'NiS': {'Cr': 0,\n",
       "  'Ni': 0.6466993688738453,\n",
       "  'Si': 0,\n",
       "  'Ca': 0,\n",
       "  'S': 0.35330063112615473,\n",
       "  'Al': 0,\n",
       "  'P': 0,\n",
       "  'Fe': 0,\n",
       "  'Mg': 0,\n",
       "  'Ti': 0},\n",
       " 'Ni': {'Cr': 0,\n",
       "  'Ni': 1.0,\n",
       "  'Si': 0,\n",
       "  'Ca': 0,\n",
       "  'S': 0,\n",
       "  'Al': 0,\n",
       "  'P': 0,\n",
       "  'Fe': 0,\n",
       "  'Mg': 0,\n",
       "  'Ti': 0},\n",
       " 'SCOlv': {'Ti': 0,\n",
       "  'Si': 0.19079999999999997,\n",
       "  'Al': 0.0,\n",
       "  'Fe': 0.0742,\n",
       "  'Mg': 0.298,\n",
       "  'Ca': 0.0002,\n",
       "  'P': 0.0,\n",
       "  'Cr': 0.0,\n",
       "  'Ni': 0.0029,\n",
       "  'S': 0.0},\n",
       " 'FeS': {'Cr': 0,\n",
       "  'Ni': 0,\n",
       "  'Si': 0,\n",
       "  'Ca': 0,\n",
       "  'S': 0.3647480377658969,\n",
       "  'Al': 0,\n",
       "  'P': 0,\n",
       "  'Fe': 0.6352519622341031,\n",
       "  'Mg': 0,\n",
       "  'Ti': 0},\n",
       " 'Fe': {'Cr': 0,\n",
       "  'Ni': 0,\n",
       "  'Si': 0,\n",
       "  'Ca': 0,\n",
       "  'S': 0,\n",
       "  'Al': 0,\n",
       "  'P': 0,\n",
       "  'Fe': 1.0,\n",
       "  'Mg': 0,\n",
       "  'Ti': 0},\n",
       " 'CaTiO3': {'Cr': 0,\n",
       "  'Ni': 0,\n",
       "  'Si': 0,\n",
       "  'Ca': 0.29481430479788623,\n",
       "  'S': 0,\n",
       "  'Al': 0,\n",
       "  'P': 0,\n",
       "  'Fe': 0,\n",
       "  'Mg': 0,\n",
       "  'Ti': 0.3521102931224217},\n",
       " 'Fe3O4': {'Cr': 0,\n",
       "  'Ni': 0,\n",
       "  'Si': 0,\n",
       "  'Ca': 0,\n",
       "  'S': 0,\n",
       "  'Al': 0,\n",
       "  'P': 0,\n",
       "  'Fe': 0.723591407862219,\n",
       "  'Mg': 0,\n",
       "  'Ti': 0},\n",
       " 'TiO2': {'Cr': 0,\n",
       "  'Ni': 0,\n",
       "  'Si': 0,\n",
       "  'Ca': 0,\n",
       "  'S': 0,\n",
       "  'Al': 0,\n",
       "  'P': 0,\n",
       "  'Fe': 0,\n",
       "  'Mg': 0,\n",
       "  'Ti': 0.5993428977109101}}"
      ]
     },
     "execution_count": 89,
     "metadata": {},
     "output_type": "execute_result"
    }
   ],
   "source": [
    "plt.plot(x, lin_models[\"Ni\"](x))"
   ]
  }
 ],
 "metadata": {
  "kernelspec": {
   "display_name": "Python 3",
   "language": "python",
   "name": "python3"
  },
  "language_info": {
   "codemirror_mode": {
    "name": "ipython",
    "version": 3
   },
   "file_extension": ".py",
   "mimetype": "text/x-python",
   "name": "python",
   "nbconvert_exporter": "python",
   "pygments_lexer": "ipython3",
   "version": "3.6.8"
  }
 },
 "nbformat": 4,
 "nbformat_minor": 2
}
