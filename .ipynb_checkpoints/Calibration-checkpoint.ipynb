{
 "cells": [
  {
   "cell_type": "code",
   "execution_count": 11,
   "metadata": {},
   "outputs": [],
   "source": [
    "import os\n",
    "\n",
    "from skimage import color\n",
    "from skimage import io"
   ]
  },
  {
   "cell_type": "code",
   "execution_count": 2,
   "metadata": {},
   "outputs": [],
   "source": [
    "data_dir = \"./datas/meteorite_mineral_mapper/dataset_1_opaques/\""
   ]
  },
  {
   "cell_type": "code",
   "execution_count": 3,
   "metadata": {},
   "outputs": [],
   "source": [
    "standards = list(map(lambda d: data_dir+d, list(filter(lambda d: d[:14] == \"standards_32bt\", [d for d in os.listdir('./datas/meteorite_mineral_mapper/dataset_1_opaques/')]))))"
   ]
  },
  {
   "cell_type": "code",
   "execution_count": 5,
   "metadata": {},
   "outputs": [],
   "source": [
    "masks = list(map(lambda d: data_dir+d, list(filter(lambda d: d.split(\"_\")[1]==\"mask.tif\",[d for d in os.listdir('./datas/meteorite_mineral_mapper/dataset_1_opaques/')]))))"
   ]
  },
  {
   "cell_type": "code",
   "execution_count": 6,
   "metadata": {},
   "outputs": [],
   "source": [
    "obj1 = list(map(lambda d: data_dir+d, list(filter(lambda d: d[:9] == \"obj1_32bt\", [d for d in os.listdir('./datas/meteorite_mineral_mapper/dataset_1_opaques/')]))))"
   ]
  },
  {
   "cell_type": "code",
   "execution_count": 8,
   "metadata": {},
   "outputs": [],
   "source": [
    "obj2 = list(map(lambda d: data_dir+d, list(filter(lambda d: d[:9] == \"obj2_32bt\", [d for d in os.listdir('./datas/meteorite_mineral_mapper/dataset_1_opaques/')]))))"
   ]
  },
  {
   "cell_type": "code",
   "execution_count": 12,
   "metadata": {},
   "outputs": [],
   "source": [
    "standards = [io.imread(standard) for standard in standards]"
   ]
  },
  {
   "cell_type": "code",
   "execution_count": null,
   "metadata": {},
   "outputs": [],
   "source": []
  },
  {
   "cell_type": "code",
   "execution_count": null,
   "metadata": {},
   "outputs": [],
   "source": []
  }
 ],
 "metadata": {
  "kernelspec": {
   "display_name": "Python 3",
   "language": "python",
   "name": "python3"
  },
  "language_info": {
   "codemirror_mode": {
    "name": "ipython",
    "version": 3
   },
   "file_extension": ".py",
   "mimetype": "text/x-python",
   "name": "python",
   "nbconvert_exporter": "python",
   "pygments_lexer": "ipython3",
   "version": "3.6.8"
  }
 },
 "nbformat": 4,
 "nbformat_minor": 2
}
